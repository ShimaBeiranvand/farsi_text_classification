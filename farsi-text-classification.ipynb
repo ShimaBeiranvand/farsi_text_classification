{
 "cells": [
  {
   "cell_type": "code",
   "execution_count": 1,
   "metadata": {
    "execution": {
     "iopub.execute_input": "2023-11-07T08:01:19.740524Z",
     "iopub.status.busy": "2023-11-07T08:01:19.740140Z",
     "iopub.status.idle": "2023-11-07T08:01:31.061239Z",
     "shell.execute_reply": "2023-11-07T08:01:31.059668Z",
     "shell.execute_reply.started": "2023-11-07T08:01:19.740491Z"
    }
   },
   "outputs": [
    {
     "name": "stdout",
     "output_type": "stream",
     "text": [
      "Requirement already satisfied: hazm in /opt/conda/lib/python3.10/site-packages (0.9.4)\n",
      "Requirement already satisfied: fasttext-wheel<0.10.0,>=0.9.2 in /opt/conda/lib/python3.10/site-packages (from hazm) (0.9.2)\n",
      "Requirement already satisfied: flashtext<3.0,>=2.7 in /opt/conda/lib/python3.10/site-packages (from hazm) (2.7)\n",
      "Requirement already satisfied: gensim<5.0.0,>=4.3.1 in /opt/conda/lib/python3.10/site-packages (from hazm) (4.3.2)\n",
      "Requirement already satisfied: nltk<4.0.0,>=3.8.1 in /opt/conda/lib/python3.10/site-packages (from hazm) (3.8.1)\n",
      "Requirement already satisfied: numpy==1.24.3 in /opt/conda/lib/python3.10/site-packages (from hazm) (1.24.3)\n",
      "Requirement already satisfied: python-crfsuite<0.10.0,>=0.9.9 in /opt/conda/lib/python3.10/site-packages (from hazm) (0.9.9)\n",
      "Requirement already satisfied: scikit-learn<2.0.0,>=1.2.2 in /opt/conda/lib/python3.10/site-packages (from hazm) (1.2.2)\n",
      "Requirement already satisfied: pybind11>=2.2 in /opt/conda/lib/python3.10/site-packages (from fasttext-wheel<0.10.0,>=0.9.2->hazm) (2.11.1)\n",
      "Requirement already satisfied: setuptools>=0.7.0 in /opt/conda/lib/python3.10/site-packages (from fasttext-wheel<0.10.0,>=0.9.2->hazm) (68.0.0)\n",
      "Requirement already satisfied: scipy>=1.7.0 in /opt/conda/lib/python3.10/site-packages (from gensim<5.0.0,>=4.3.1->hazm) (1.11.2)\n",
      "Requirement already satisfied: smart-open>=1.8.1 in /opt/conda/lib/python3.10/site-packages (from gensim<5.0.0,>=4.3.1->hazm) (6.3.0)\n",
      "Requirement already satisfied: click in /opt/conda/lib/python3.10/site-packages (from nltk<4.0.0,>=3.8.1->hazm) (8.1.7)\n",
      "Requirement already satisfied: joblib in /opt/conda/lib/python3.10/site-packages (from nltk<4.0.0,>=3.8.1->hazm) (1.3.2)\n",
      "Requirement already satisfied: regex>=2021.8.3 in /opt/conda/lib/python3.10/site-packages (from nltk<4.0.0,>=3.8.1->hazm) (2023.6.3)\n",
      "Requirement already satisfied: tqdm in /opt/conda/lib/python3.10/site-packages (from nltk<4.0.0,>=3.8.1->hazm) (4.66.1)\n",
      "Requirement already satisfied: threadpoolctl>=2.0.0 in /opt/conda/lib/python3.10/site-packages (from scikit-learn<2.0.0,>=1.2.2->hazm) (3.1.0)\n"
     ]
    }
   ],
   "source": [
    "!pip install hazm"
   ]
  },
  {
   "cell_type": "code",
   "execution_count": 2,
   "metadata": {
    "execution": {
     "iopub.execute_input": "2023-11-07T08:01:42.345367Z",
     "iopub.status.busy": "2023-11-07T08:01:42.344941Z",
     "iopub.status.idle": "2023-11-07T08:02:01.403403Z",
     "shell.execute_reply": "2023-11-07T08:02:01.402433Z",
     "shell.execute_reply.started": "2023-11-07T08:01:42.345329Z"
    }
   },
   "outputs": [
    {
     "name": "stderr",
     "output_type": "stream",
     "text": [
      "[nltk_data] Downloading package punkt to /usr/share/nltk_data...\n",
      "[nltk_data]   Package punkt is already up-to-date!\n"
     ]
    }
   ],
   "source": [
    "import numpy as np\n",
    "import pandas as pd\n",
    "import os\n",
    "import glob\n",
    "import nltk\n",
    "\n",
    "nltk.download('punkt')\n",
    "from nltk.tokenize import word_tokenize\n",
    "\n",
    "from hazm import *\n",
    "from sklearn.feature_extraction.text import TfidfVectorizer\n",
    "from sklearn.neural_network import MLPClassifier\n",
    "import tensorflow as tf\n",
    "from sklearn.metrics import accuracy_score"
   ]
  },
  {
   "cell_type": "code",
   "execution_count": 22,
   "metadata": {
    "execution": {
     "iopub.execute_input": "2023-11-07T08:10:06.882024Z",
     "iopub.status.busy": "2023-11-07T08:10:06.881609Z",
     "iopub.status.idle": "2023-11-07T08:10:07.404836Z",
     "shell.execute_reply": "2023-11-07T08:10:07.403588Z",
     "shell.execute_reply.started": "2023-11-07T08:10:06.881993Z"
    }
   },
   "outputs": [
    {
     "name": "stdout",
     "output_type": "stream",
     "text": [
      "['اقتصادی', 'سیاسی']\n",
      "/kaggle/input/farsi-text-2cls/data/اقتصادی\n",
      "/kaggle/input/farsi-text-2cls/data/سیاسی\n",
      "['طرح تدارم حضور نظامي انگليس در افغانستان پس از 2014\\n فرماندهان ارتش انگليس به دنبال اجرايي کردن برنامه استقرار 200 سرباز انگليسي در ولايت هلمند افغانستان پس از خروج نيروهاي ناتو از اين کشور در سال 2014 ميلادي هستند. \\n\\u200c به نوشته روزنامه تلگراف، اين پيشنهاد اولين اذعان رسمي دولت انگليس در اين باره است که لندن مي\\u200cتواند نيروهاي خود را در اين ولايت که در هفت سال گذشته قريب به 450 سرباز در آن کشته شدند، نگه دارد. \\nفرماندهان ارشد ارتش انگليس همچنين نگراني خود را درباره اينکه نيروهاي ارتش افغان آمادگي لازم را در رويارويي با طالبان ندارند، ابراز داشته و گفتند که نارضايتي و بي\\u200cميلي در نگه داشتن نيروها در هلمند پس از سال 2014 ميلادي تضعيف کننده روحيه نيروهاي افغان و تاثير انگليس در کابل است. \\nمنابع ارشد ارتش انگليس همچنين اعلام کردند: اين پيشنهاد مربوط به استقرار 200 سرباز انگليسي در اردوگاه نظاميان \"بسشن\" در ولايت هلمند براي فعاليت به عنوان مشاوران نظامي در مقر نيروهاي ارتش افغان است. \\nسربازان انگليسي قرار است در داخل مقر باقي بمانند و به ميدان جنگ وارد نشوند اما قرار است به فعاليت آموزشي، اطلاعاتي و لجستيکي بپردازند. \\nژنرال\\u200cهاي افغان نيز مي\\u200cگويند که همچنان خواهان کمک از سوي غرب براي سازماندهي توانايي هوايي و خدمات پزشکي هستند. \\nفرماندهان نظامي انگليس براي چند ماه است که به دنبال اجراي اين برنامه هستند اما منابع مطلع گفته\\u200cاند که اين مساله با مقاومت از سوي دفتر نخست وزيري اين کشوربه دليل پرهزينه بودن اين مساله و نگراني از حضور اين سربازان در ميدان نبرد مواجه شده است. \\nماموريت نظامي ناتو در پايان سال 2014 ميلادي در افغانستان پايان مي\\u200cيابد اما انگليس در حال خارج کردن هزاران تن از سربازان خود از اين کشور است و کنترل امنيتي افغانستان را به دست سربازان پليس اين کشور سپرده است. \\nتعداد سربازان انگليس در افغانستان قرار است در پايان سال جاري ميلادي از 10 هزار تن به 5200 تن برسد. تاکنون نيز دولت لندن اعلام کرد که تنها حدود 200 سرباز را در کابل و پس از پايان سال 2014 ميلادي باقي مي\\u200cگذارد. \\n', 'رایان کروکر: ایران و آمریکا با احتیاط در عراق همکاری کنند \\nرایان کروکر، سفیر سابق آمریکا در عراق و افغانستان می گوید عراق شاهد یک کشمکش عمیق فرقه ای است که دخالت آمریکا را خیلی پیچیده می کند.\\n\\nرایان کروکر به شبکه تلویزیونی سی.بی.اس گفت: «ما با ایران درست پیش از سقوط و بعد از سقوط طالبان کار کردیم، بنابراین این اقدامی است که می توانیم [در مورد عراق] انجام دهیم اما هر دو باید مراقب باشیم.»\\n\\nاو گفت: «اگر اینطور دیده شویم که ما با ایران همکاری خیلی نزدیکی داریم، این باعث دشمنی بیشتر بخش سنی جمعیت عراق می شود. بنابراین، این خوب است که ما در حال گفتگو [با ایران] هستیم. ما فقط باید مواظب باشیم و آنها نیز مراقب خواهند بود.»\\n\\nبه گفته سفیر سابق آمریکا، یکی از مسائلی که دو طرف باید مراقب آن باشند، حمایت از شبه نظامیان افراطی شیعه است. او گفت: «با قتل شبانه برخی از جوانان سنی، شاهد نشانه هایی هستیم که درگیری های فرقه ای به بغداد کشانده می شود.»\\n\\nکروکر گفت: «کاری که ایرانی ها لازم است انجام دهند این است که از تمام تلاش و نفوذشان استفاده کنند تا تلاش های داعش برای برانگیخته شدن یک جنگ فرقه ای با واکنش نشان دادن شیعه ها، به نتیجه نرسد.»\\n\\nکروکر گفت آمریکا باید با عراقی ها در بالاترین سطح مقامات همکاری کند. او گفت جان کری، وزیر امورخارجه آمریکا باید اکنون سوار هواپیما شود و به بغداد برود تا آنها بتوانند وحدت ملی بین کردها، سنی ها و شیعه ها را نشان دهند که اگر امیدی به رفع تهدید داعش باشد، نشان دادن این وحدت لازم است.\\n\\nسفیر سابق آمریکا در عراق و افغانستان گفت آمریکا همچنان به عراق تعهد دارد. به گفته کروکر، عراق یک دموکراسی خیلی جوان است که سیستم سیاسی آن با کمک آمریکا ساخته شد و اکنون چالش های زیادی دارد. او گفت آمریکا نمی تواند خود را از عراق فاصله دهد. \\n']\n"
     ]
    }
   ],
   "source": [
    "# reading all source files\n",
    "\n",
    "parent_dir = \"/kaggle/input/farsi-text-2cls/data\"\n",
    "subdirectories = [subdir for subdir in os.listdir(parent_dir) if os.path.isdir(os.path.join(parent_dir, subdir))]\n",
    "print(subdirectories)\n",
    "\n",
    "# a list for storing data inside\n",
    "total_data = []\n",
    "\n",
    "\n",
    "for subdir in subdirectories:\n",
    "    \n",
    "    # creating subdirs as string\n",
    "    subdirectory_path = os.path.join(parent_dir, subdir)\n",
    "    print(subdirectory_path)\n",
    "    \n",
    "    # Get a list of all text files within the subdirectory\n",
    "    txt_files = glob.glob(os.path.join(subdirectory_path, \"*.txt\"))\n",
    "    \n",
    "    # Iterate over each text file and read them\n",
    "    for txt_file in txt_files:\n",
    "        \n",
    "        with open(txt_file, 'r' , encoding='utf8') as file:\n",
    "            contents = file.read()\n",
    "            total_data.append(contents)\n",
    "            \n",
    "            \n",
    "print(total_data[:2])"
   ]
  },
  {
   "cell_type": "code",
   "execution_count": 23,
   "metadata": {
    "execution": {
     "iopub.execute_input": "2023-11-07T08:10:26.694435Z",
     "iopub.status.busy": "2023-11-07T08:10:26.694053Z",
     "iopub.status.idle": "2023-11-07T08:10:26.700333Z",
     "shell.execute_reply": "2023-11-07T08:10:26.699080Z",
     "shell.execute_reply.started": "2023-11-07T08:10:26.694406Z"
    }
   },
   "outputs": [
    {
     "name": "stdout",
     "output_type": "stream",
     "text": [
      "498\n",
      "498\n"
     ]
    }
   ],
   "source": [
    "# separating 2 classes in 2 different lists\n",
    "\n",
    "politics = total_data[:498]\n",
    "economics = total_data[498:]\n",
    "\n",
    "\n",
    "print(len(politics))\n",
    "print(len(economics))\n"
   ]
  },
  {
   "cell_type": "code",
   "execution_count": 5,
   "metadata": {
    "execution": {
     "iopub.execute_input": "2023-11-07T08:02:32.336867Z",
     "iopub.status.busy": "2023-11-07T08:02:32.336478Z",
     "iopub.status.idle": "2023-11-07T08:02:32.347407Z",
     "shell.execute_reply": "2023-11-07T08:02:32.346146Z",
     "shell.execute_reply.started": "2023-11-07T08:02:32.336838Z"
    }
   },
   "outputs": [],
   "source": [
    "# preprocessing\n",
    "\n",
    "def preprocessor(doc):\n",
    "    \n",
    "    # normalizing\n",
    "    normalizer = Normalizer()\n",
    "    normalized_doc = normalizer.normalize(doc)\n",
    "    \n",
    "    # tokenize into words\n",
    "    tokens = word_tokenize(normalized_doc)\n",
    "    \n",
    "    # deleting punctuations & stop words\n",
    "    with open('/kaggle/input/farsi-text-2cls/persian_stopwords','r', encoding=\"utf-8\") as file:\n",
    "        persian_stopwords = file.read().split()\n",
    "        \n",
    "    my_punct = ['-' , '!', '\"', '#', '$', '%', '&', \"'\", '(', ')', '*', '+', ',', '.','/', ':', ';', '<', '=', '>', '?', '@', '[', '\\\\', ']', '^', '_', '`', '{', '|', '}', '~', '»', '«', '“', '”' , '،']\n",
    "\n",
    "    for token in tokens:\n",
    "        if token in my_punct or token in persian_stopwords:\n",
    "            tokens.remove(token)\n",
    "    \n",
    "    # pos tagging\n",
    "    tagger = POSTagger(model='/kaggle/input/farsi-text-2cls/pos_tagger.model')\n",
    "    tagged_tokens = tagger.tag(tokens)\n",
    "        \n",
    "    # finding roots based on pos\n",
    "    stemmer = Stemmer()\n",
    "    lemmatizer = Lemmatizer()\n",
    "\n",
    "    root_tokens = []\n",
    "    for token in tagged_tokens:\n",
    "        if token[1] == 'ADJ':\n",
    "            root = stemmer.stem(token[0])\n",
    "        else:\n",
    "            root = lemmatizer.lemmatize(token[0])\n",
    "                \n",
    "        root_tokens.append(root) \n",
    "    \n",
    "    # joining tokens together \n",
    "    joined_words = ' '.join(root_tokens)\n",
    "        \n",
    "    \n",
    "        \n",
    "    return joined_words\n"
   ]
  },
  {
   "cell_type": "code",
   "execution_count": 6,
   "metadata": {
    "execution": {
     "iopub.execute_input": "2023-11-07T08:02:39.653454Z",
     "iopub.status.busy": "2023-11-07T08:02:39.652398Z",
     "iopub.status.idle": "2023-11-07T08:02:39.656913Z",
     "shell.execute_reply": "2023-11-07T08:02:39.656147Z",
     "shell.execute_reply.started": "2023-11-07T08:02:39.653413Z"
    }
   },
   "outputs": [],
   "source": [
    "preprocessed_politics = []    \n",
    "preprocessed_economics = []"
   ]
  },
  {
   "cell_type": "code",
   "execution_count": 24,
   "metadata": {
    "execution": {
     "iopub.execute_input": "2023-11-07T08:10:45.964723Z",
     "iopub.status.busy": "2023-11-07T08:10:45.963572Z",
     "iopub.status.idle": "2023-11-07T08:23:26.859783Z",
     "shell.execute_reply": "2023-11-07T08:23:26.858617Z",
     "shell.execute_reply.started": "2023-11-07T08:10:45.964681Z"
    }
   },
   "outputs": [],
   "source": [
    "for doc in politics:                            \n",
    "    preprocessed_politics.append(preprocessor(doc))"
   ]
  },
  {
   "cell_type": "code",
   "execution_count": 25,
   "metadata": {
    "execution": {
     "iopub.execute_input": "2023-11-07T08:24:52.848667Z",
     "iopub.status.busy": "2023-11-07T08:24:52.848227Z",
     "iopub.status.idle": "2023-11-07T08:37:25.249255Z",
     "shell.execute_reply": "2023-11-07T08:37:25.248105Z",
     "shell.execute_reply.started": "2023-11-07T08:24:52.848631Z"
    }
   },
   "outputs": [],
   "source": [
    "for doc in politics:                            \n",
    "    preprocessed_economics.append(preprocessor(doc))\n",
    "    "
   ]
  },
  {
   "cell_type": "code",
   "execution_count": null,
   "metadata": {},
   "outputs": [],
   "source": [
    "print(preprocessed_politics[0])\n",
    "print(preprocessed_economics[0])"
   ]
  },
  {
   "cell_type": "code",
   "execution_count": null,
   "metadata": {},
   "outputs": [],
   "source": [
    "# split_train_test\n",
    "\n",
    "X_train = preprocessed_politics[:423] + preprocessed_economics[:423]\n",
    "y_train = ['politics'] * 423 + ['economics'] * 423\n",
    "\n",
    "X_test = preprocessed_politics[423:] + preprocessed_economics[423:]\n",
    "y_test = ['politics'] * 75 + ['economics'] * 75\n",
    "\n",
    "\n",
    "print(len(X_train))\n",
    "print(len(y_train))\n",
    "print(len(X_test))\n",
    "print(len(y_test))"
   ]
  },
  {
   "cell_type": "code",
   "execution_count": 14,
   "metadata": {
    "execution": {
     "iopub.execute_input": "2023-11-07T08:07:59.397513Z",
     "iopub.status.busy": "2023-11-07T08:07:59.397118Z",
     "iopub.status.idle": "2023-11-07T08:07:59.403752Z",
     "shell.execute_reply": "2023-11-07T08:07:59.402457Z",
     "shell.execute_reply.started": "2023-11-07T08:07:59.397479Z"
    }
   },
   "outputs": [],
   "source": [
    "# delete later\n",
    "\n",
    "X_train = []\n",
    "X_train.append(preprocessed_politics[0]) \n",
    "X_train.append(preprocessed_economics[0])\n",
    "\n",
    "y_train = ['politics'] + ['economics'] \n",
    "\n",
    "X_test = []\n",
    "X_test.append(preprocessed_politics[1]) \n",
    "X_test.append(preprocessed_economics[1])\n",
    "\n",
    "y_test = ['politics'] + ['economics'] "
   ]
  },
  {
   "cell_type": "code",
   "execution_count": 17,
   "metadata": {
    "execution": {
     "iopub.execute_input": "2023-11-07T08:08:52.811613Z",
     "iopub.status.busy": "2023-11-07T08:08:52.811164Z",
     "iopub.status.idle": "2023-11-07T08:08:52.817270Z",
     "shell.execute_reply": "2023-11-07T08:08:52.815960Z",
     "shell.execute_reply.started": "2023-11-07T08:08:52.811553Z"
    }
   },
   "outputs": [
    {
     "name": "stdout",
     "output_type": "stream",
     "text": [
      "2\n"
     ]
    }
   ],
   "source": [
    "print(len(X_train))                      # del later"
   ]
  },
  {
   "cell_type": "code",
   "execution_count": 18,
   "metadata": {
    "execution": {
     "iopub.execute_input": "2023-11-07T08:08:57.424344Z",
     "iopub.status.busy": "2023-11-07T08:08:57.423968Z",
     "iopub.status.idle": "2023-11-07T08:08:57.445726Z",
     "shell.execute_reply": "2023-11-07T08:08:57.444818Z",
     "shell.execute_reply.started": "2023-11-07T08:08:57.424316Z"
    }
   },
   "outputs": [],
   "source": [
    "# convert the text data to numerical type (TF_IDF)\n",
    "\n",
    "vectorizer = TfidfVectorizer(encoding='utf-8', analyzer='word', token_pattern=r'\\b\\w+\\b')\n",
    "train_tfidf = vectorizer.fit_transform(X_train)\n",
    "test_tfidf = vectorizer.transform(X_test)"
   ]
  },
  {
   "cell_type": "code",
   "execution_count": 19,
   "metadata": {
    "execution": {
     "iopub.execute_input": "2023-11-07T08:09:15.912662Z",
     "iopub.status.busy": "2023-11-07T08:09:15.911693Z",
     "iopub.status.idle": "2023-11-07T08:09:15.945623Z",
     "shell.execute_reply": "2023-11-07T08:09:15.944636Z",
     "shell.execute_reply.started": "2023-11-07T08:09:15.912623Z"
    }
   },
   "outputs": [
    {
     "data": {
      "text/html": [
       "<style>#sk-container-id-1 {color: black;background-color: white;}#sk-container-id-1 pre{padding: 0;}#sk-container-id-1 div.sk-toggleable {background-color: white;}#sk-container-id-1 label.sk-toggleable__label {cursor: pointer;display: block;width: 100%;margin-bottom: 0;padding: 0.3em;box-sizing: border-box;text-align: center;}#sk-container-id-1 label.sk-toggleable__label-arrow:before {content: \"▸\";float: left;margin-right: 0.25em;color: #696969;}#sk-container-id-1 label.sk-toggleable__label-arrow:hover:before {color: black;}#sk-container-id-1 div.sk-estimator:hover label.sk-toggleable__label-arrow:before {color: black;}#sk-container-id-1 div.sk-toggleable__content {max-height: 0;max-width: 0;overflow: hidden;text-align: left;background-color: #f0f8ff;}#sk-container-id-1 div.sk-toggleable__content pre {margin: 0.2em;color: black;border-radius: 0.25em;background-color: #f0f8ff;}#sk-container-id-1 input.sk-toggleable__control:checked~div.sk-toggleable__content {max-height: 200px;max-width: 100%;overflow: auto;}#sk-container-id-1 input.sk-toggleable__control:checked~label.sk-toggleable__label-arrow:before {content: \"▾\";}#sk-container-id-1 div.sk-estimator input.sk-toggleable__control:checked~label.sk-toggleable__label {background-color: #d4ebff;}#sk-container-id-1 div.sk-label input.sk-toggleable__control:checked~label.sk-toggleable__label {background-color: #d4ebff;}#sk-container-id-1 input.sk-hidden--visually {border: 0;clip: rect(1px 1px 1px 1px);clip: rect(1px, 1px, 1px, 1px);height: 1px;margin: -1px;overflow: hidden;padding: 0;position: absolute;width: 1px;}#sk-container-id-1 div.sk-estimator {font-family: monospace;background-color: #f0f8ff;border: 1px dotted black;border-radius: 0.25em;box-sizing: border-box;margin-bottom: 0.5em;}#sk-container-id-1 div.sk-estimator:hover {background-color: #d4ebff;}#sk-container-id-1 div.sk-parallel-item::after {content: \"\";width: 100%;border-bottom: 1px solid gray;flex-grow: 1;}#sk-container-id-1 div.sk-label:hover label.sk-toggleable__label {background-color: #d4ebff;}#sk-container-id-1 div.sk-serial::before {content: \"\";position: absolute;border-left: 1px solid gray;box-sizing: border-box;top: 0;bottom: 0;left: 50%;z-index: 0;}#sk-container-id-1 div.sk-serial {display: flex;flex-direction: column;align-items: center;background-color: white;padding-right: 0.2em;padding-left: 0.2em;position: relative;}#sk-container-id-1 div.sk-item {position: relative;z-index: 1;}#sk-container-id-1 div.sk-parallel {display: flex;align-items: stretch;justify-content: center;background-color: white;position: relative;}#sk-container-id-1 div.sk-item::before, #sk-container-id-1 div.sk-parallel-item::before {content: \"\";position: absolute;border-left: 1px solid gray;box-sizing: border-box;top: 0;bottom: 0;left: 50%;z-index: -1;}#sk-container-id-1 div.sk-parallel-item {display: flex;flex-direction: column;z-index: 1;position: relative;background-color: white;}#sk-container-id-1 div.sk-parallel-item:first-child::after {align-self: flex-end;width: 50%;}#sk-container-id-1 div.sk-parallel-item:last-child::after {align-self: flex-start;width: 50%;}#sk-container-id-1 div.sk-parallel-item:only-child::after {width: 0;}#sk-container-id-1 div.sk-dashed-wrapped {border: 1px dashed gray;margin: 0 0.4em 0.5em 0.4em;box-sizing: border-box;padding-bottom: 0.4em;background-color: white;}#sk-container-id-1 div.sk-label label {font-family: monospace;font-weight: bold;display: inline-block;line-height: 1.2em;}#sk-container-id-1 div.sk-label-container {text-align: center;}#sk-container-id-1 div.sk-container {/* jupyter's `normalize.less` sets `[hidden] { display: none; }` but bootstrap.min.css set `[hidden] { display: none !important; }` so we also need the `!important` here to be able to override the default hidden behavior on the sphinx rendered scikit-learn.org. See: https://github.com/scikit-learn/scikit-learn/issues/21755 */display: inline-block !important;position: relative;}#sk-container-id-1 div.sk-text-repr-fallback {display: none;}</style><div id=\"sk-container-id-1\" class=\"sk-top-container\"><div class=\"sk-text-repr-fallback\"><pre>MLPClassifier(hidden_layer_sizes=(50,), max_iter=100, random_state=42)</pre><b>In a Jupyter environment, please rerun this cell to show the HTML representation or trust the notebook. <br />On GitHub, the HTML representation is unable to render, please try loading this page with nbviewer.org.</b></div><div class=\"sk-container\" hidden><div class=\"sk-item\"><div class=\"sk-estimator sk-toggleable\"><input class=\"sk-toggleable__control sk-hidden--visually\" id=\"sk-estimator-id-1\" type=\"checkbox\" checked><label for=\"sk-estimator-id-1\" class=\"sk-toggleable__label sk-toggleable__label-arrow\">MLPClassifier</label><div class=\"sk-toggleable__content\"><pre>MLPClassifier(hidden_layer_sizes=(50,), max_iter=100, random_state=42)</pre></div></div></div></div></div>"
      ],
      "text/plain": [
       "MLPClassifier(hidden_layer_sizes=(50,), max_iter=100, random_state=42)"
      ]
     },
     "execution_count": 19,
     "metadata": {},
     "output_type": "execute_result"
    }
   ],
   "source": [
    "# building the model\n",
    "\n",
    "clf = MLPClassifier(hidden_layer_sizes=(50,), max_iter=100, random_state=42)\n",
    "clf.fit(train_tfidf, y_train)\n"
   ]
  },
  {
   "cell_type": "code",
   "execution_count": 20,
   "metadata": {
    "execution": {
     "iopub.execute_input": "2023-11-07T08:09:24.155825Z",
     "iopub.status.busy": "2023-11-07T08:09:24.155423Z",
     "iopub.status.idle": "2023-11-07T08:09:24.163026Z",
     "shell.execute_reply": "2023-11-07T08:09:24.161971Z",
     "shell.execute_reply.started": "2023-11-07T08:09:24.155793Z"
    }
   },
   "outputs": [
    {
     "name": "stdout",
     "output_type": "stream",
     "text": [
      "Accuracy: 0.5\n"
     ]
    }
   ],
   "source": [
    "#import scipy\n",
    "\n",
    "# predicting the test set\n",
    "#test_tfidf = tf.sparse.reorder(test_tfidf)\n",
    "#test_tfidf = scipy.sparse.csr_matrix.sort_indices(test_tfidf)\n",
    "y_pred = clf.predict(test_tfidf)\n",
    "\n",
    "# Evaluating the model\n",
    "accuracy = accuracy_score(y_test, y_pred)\n",
    "print(\"Accuracy:\", accuracy)"
   ]
  },
  {
   "cell_type": "code",
   "execution_count": 21,
   "metadata": {
    "execution": {
     "iopub.execute_input": "2023-11-07T08:09:31.637317Z",
     "iopub.status.busy": "2023-11-07T08:09:31.636901Z",
     "iopub.status.idle": "2023-11-07T08:09:31.644466Z",
     "shell.execute_reply": "2023-11-07T08:09:31.643407Z",
     "shell.execute_reply.started": "2023-11-07T08:09:31.637276Z"
    }
   },
   "outputs": [
    {
     "data": {
      "text/plain": [
       "scipy.sparse._csr.csr_matrix"
      ]
     },
     "execution_count": 21,
     "metadata": {},
     "output_type": "execute_result"
    }
   ],
   "source": [
    "type(train_tfidf)"
   ]
  }
 ],
 "metadata": {
  "kernelspec": {
   "display_name": "Python 3 (ipykernel)",
   "language": "python",
   "name": "python3"
  },
  "language_info": {
   "codemirror_mode": {
    "name": "ipython",
    "version": 3
   },
   "file_extension": ".py",
   "mimetype": "text/x-python",
   "name": "python",
   "nbconvert_exporter": "python",
   "pygments_lexer": "ipython3",
   "version": "3.9.13"
  }
 },
 "nbformat": 4,
 "nbformat_minor": 4
}
